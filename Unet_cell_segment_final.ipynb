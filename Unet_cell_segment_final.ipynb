{
  "nbformat": 4,
  "nbformat_minor": 0,
  "metadata": {
    "colab": {
      "provenance": [],
      "include_colab_link": true
    },
    "kernelspec": {
      "name": "python3",
      "display_name": "Python 3"
    },
    "accelerator": "GPU"
  },
  "cells": [
    {
      "cell_type": "markdown",
      "metadata": {
        "id": "view-in-github",
        "colab_type": "text"
      },
      "source": [
        "<a href=\"https://colab.research.google.com/github/dabeyrathna/Capstone-Project-Bacteria-Cell-Segmentation/blob/main/Unet_cell_segment_final.ipynb\" target=\"_parent\"><img src=\"https://colab.research.google.com/assets/colab-badge.svg\" alt=\"Open In Colab\"/></a>"
      ]
    },
    {
      "cell_type": "code",
      "metadata": {
        "colab": {
          "base_uri": "https://localhost:8080/"
        },
        "id": "l4EBq3nQ_uPY",
        "outputId": "69e8bd10-5071-481a-b050-440ed11eaa47"
      },
      "source": [
        "from google.colab import drive\n",
        "drive.mount('/content/gdrive')"
      ],
      "execution_count": 1,
      "outputs": [
        {
          "output_type": "stream",
          "name": "stdout",
          "text": [
            "Mounted at /content/gdrive\n"
          ]
        }
      ]
    },
    {
      "cell_type": "code",
      "metadata": {
        "id": "amEnxCRi_5OH"
      },
      "source": [
        "import os\n",
        "# root_path = 'gdrive/My Drive/bio_film'\n",
        "root_path = 'gdrive/My Drive/Capstone project DDMD/UNET/'\n",
        "os.chdir(root_path)"
      ],
      "execution_count": 2,
      "outputs": []
    },
    {
      "cell_type": "code",
      "metadata": {
        "id": "lj8mAH4SALBg"
      },
      "source": [
        "import os\n",
        "import sys\n",
        "import random\n",
        "import numpy as np\n",
        "import cv2\n",
        "import matplotlib.pyplot as plt\n",
        "import tensorflow as tf\n",
        "from tensorflow import keras\n",
        "from keras.layers import UpSampling2D, Dropout, BatchNormalization\n",
        "from keras.callbacks import EarlyStopping\n",
        "\n",
        "## Seeding \n",
        "seed = 2022\n",
        "random.seed = seed\n",
        "np.random.seed = seed\n",
        "tf.seed = seed"
      ],
      "execution_count": 3,
      "outputs": []
    },
    {
      "cell_type": "code",
      "metadata": {
        "id": "-ybo77QGAjBR"
      },
      "source": [
        "class DataGen(keras.utils.Sequence):\n",
        "    def __init__(self, ids, path, batch_size=8, image_size=128):\n",
        "        self.ids = ids\n",
        "        self.path = path\n",
        "        self.batch_size = batch_size\n",
        "        self.image_size = image_size\n",
        "        self.on_epoch_end()\n",
        "        \n",
        "    def __crop__(self, img, x1, x2, y1, y2):\n",
        "      cropped_image = img[x1:x2, y1:y2]\n",
        "      return cropped_image\n",
        "\n",
        "    def __contrast__(self, img):\n",
        "      lab= cv2.cvtColor(img, cv2.COLOR_BGR2LAB)\n",
        "      l_channel, a, b = cv2.split(lab)\n",
        "\n",
        "      # Applying CLAHE to L-channel\n",
        "      # feel free to try different values for the limit and grid size:\n",
        "      clahe = cv2.createCLAHE(clipLimit=2.0, tileGridSize=(8,8))\n",
        "      cl = clahe.apply(l_channel)\n",
        "\n",
        "      # merge the CLAHE enhanced L-channel with the a and b channel\n",
        "      limg = cv2.merge((cl,a,b))\n",
        "\n",
        "      # Converting image from LAB Color model to BGR color spcae\n",
        "      enhanced_img = cv2.cvtColor(limg, cv2.COLOR_LAB2BGR)\n",
        "      return enhanced_img\n",
        "\n",
        "\n",
        "    def __load__(self, id_name):\n",
        "        ## Path\n",
        "        image_path = os.path.join(self.path, id_name, \"images\", id_name) + \".png\"\n",
        "        mask_path = os.path.join(self.path, id_name, \"masks/\")\n",
        "        all_masks = os.listdir(mask_path)\n",
        "        \n",
        "        ## Reading Image\n",
        "        image = cv2.imread(image_path, 1)\n",
        "        image = cv2.resize(image, (self.image_size, self.image_size))\n",
        "        #image = self.__contrast__(image)\n",
        "        #image = self.__crop__(image, 60, 1000, 60, 100)\n",
        "        mask = np.zeros((self.image_size, self.image_size, 1))\n",
        "        \n",
        "        ## Reading Masks\n",
        "        for name in all_masks:\n",
        "            _mask_path = mask_path + name\n",
        "            _mask_image = cv2.imread(_mask_path, -1)\n",
        "            _mask_image = cv2.resize(_mask_image, (self.image_size, self.image_size)) #128x128\n",
        "            _mask_image = np.expand_dims(_mask_image, axis=-1)\n",
        "            mask = np.maximum(mask, _mask_image)\n",
        "            \n",
        "        ## Normalizaing \n",
        "        image = image/255.0\n",
        "        mask = mask/255.0\n",
        "        \n",
        "        return image, mask\n",
        "    \n",
        "    def __getitem__(self, index):\n",
        "        if(index+1)*self.batch_size > len(self.ids):\n",
        "            self.batch_size = len(self.ids) - index*self.batch_size\n",
        "        \n",
        "        files_batch = self.ids[index*self.batch_size : (index+1)*self.batch_size]\n",
        "        \n",
        "        image = []\n",
        "        mask  = []\n",
        "        \n",
        "        for id_name in files_batch:\n",
        "            _img, _mask = self.__load__(id_name)\n",
        "            image.append(_img)\n",
        "            mask.append(_mask)\n",
        "            \n",
        "        image = np.array(image)\n",
        "        mask  = np.array(mask)\n",
        "        \n",
        "        return image, mask\n",
        "    \n",
        "    def on_epoch_end(self):\n",
        "        pass\n",
        "    \n",
        "    def __len__(self):\n",
        "        return int(np.ceil(len(self.ids)/float(self.batch_size)))"
      ],
      "execution_count": 4,
      "outputs": []
    },
    {
      "cell_type": "code",
      "metadata": {
        "id": "f-amp8vyA-f-"
      },
      "source": [
        "image_size = 128\n",
        "train_path = \"train\"\n",
        "val_path = \"test\"\n",
        "epochs = 10\n",
        "batch_size =9\n",
        "\n",
        "## Training Ids\n",
        "train_ids = next(os.walk(train_path))[1]\n",
        "valid_ids = next(os.walk(val_path))[1]\n",
        "\n",
        "## Validation Data Size\n",
        "val_data_size = 10\n",
        "\n",
        "valid_ids = train_ids[:val_data_size]\n",
        "train_ids = train_ids#[val_data_size:]"
      ],
      "execution_count": 5,
      "outputs": []
    },
    {
      "cell_type": "code",
      "metadata": {
        "colab": {
          "base_uri": "https://localhost:8080/"
        },
        "id": "z77JW0MOBEst",
        "outputId": "ffc0f778-f938-4174-f1ae-1b71846331d9"
      },
      "source": [
        "len(train_ids)\n",
        "len(valid_ids)"
      ],
      "execution_count": 6,
      "outputs": [
        {
          "output_type": "execute_result",
          "data": {
            "text/plain": [
              "10"
            ]
          },
          "metadata": {},
          "execution_count": 6
        }
      ]
    },
    {
      "cell_type": "code",
      "metadata": {
        "colab": {
          "base_uri": "https://localhost:8080/"
        },
        "id": "Ed4DKGHBBGau",
        "outputId": "10195aa1-dc89-4733-cb31-2767d7209632"
      },
      "source": [
        "gen = DataGen(train_ids, train_path, batch_size=batch_size, image_size=image_size)\n",
        "x, y = gen.__getitem__(0)\n",
        "print(x.shape, y.shape)"
      ],
      "execution_count": 7,
      "outputs": [
        {
          "output_type": "stream",
          "name": "stdout",
          "text": [
            "(9, 128, 128, 3) (9, 128, 128, 1)\n"
          ]
        }
      ]
    },
    {
      "cell_type": "code",
      "metadata": {
        "colab": {
          "base_uri": "https://localhost:8080/",
          "height": 298
        },
        "id": "9raToETki_Zp",
        "outputId": "71de7840-0ed5-423b-cbe5-780c78f82e14"
      },
      "source": [
        "x, y = gen.__getitem__(0)\n",
        "\n",
        "fig = plt.figure()\n",
        "fig.subplots_adjust(hspace=0.4, wspace=0.4)\n",
        "\n",
        "for i in range(2): \n",
        "  ax = fig.add_subplot(1, 2, 1)\n",
        "  ax.imshow(np.reshape(y[i]*255, (image_size, image_size)), cmap=\"gray\")\n",
        "  ax = fig.add_subplot(1, 2, 2)\n",
        "  ax.imshow(np.reshape(x[i], (image_size, image_size,3)), cmap=\"gray\")\n",
        "\n",
        "print(x.shape)"
      ],
      "execution_count": 8,
      "outputs": [
        {
          "output_type": "stream",
          "name": "stdout",
          "text": [
            "(9, 128, 128, 3)\n"
          ]
        },
        {
          "output_type": "stream",
          "name": "stderr",
          "text": [
            "/usr/local/lib/python3.7/dist-packages/ipykernel_launcher.py:8: MatplotlibDeprecationWarning: Adding an axes using the same arguments as a previous axes currently reuses the earlier instance.  In a future version, a new instance will always be created and returned.  Meanwhile, this warning can be suppressed, and the future behavior ensured, by passing a unique label to each axes instance.\n",
            "  \n",
            "/usr/local/lib/python3.7/dist-packages/ipykernel_launcher.py:10: MatplotlibDeprecationWarning: Adding an axes using the same arguments as a previous axes currently reuses the earlier instance.  In a future version, a new instance will always be created and returned.  Meanwhile, this warning can be suppressed, and the future behavior ensured, by passing a unique label to each axes instance.\n",
            "  # Remove the CWD from sys.path while we load stuff.\n"
          ]
        },
        {
          "output_type": "display_data",
          "data": {
            "text/plain": [
              "<Figure size 432x288 with 2 Axes>"
            ],
            "image/png": "[encoded data removed]"
          },
          "metadata": {
            "needs_background": "light"
          }
        }
      ]
    },
    {
      "cell_type": "code",
      "metadata": {
        "colab": {
          "base_uri": "https://localhost:8080/",
          "height": 208
        },
        "id": "1caqEz9rBJtB",
        "outputId": "0d8a0ba6-8c17-45f9-c1eb-d0f099bad9f7"
      },
      "source": [
        "r = random.randint(0, len(x)-1)\n",
        "\n",
        "fig = plt.figure()\n",
        "fig.subplots_adjust(hspace=0.4, wspace=0.4)\n",
        "ax = fig.add_subplot(1, 2, 1)\n",
        "ax.imshow(x[r])\n",
        "ax = fig.add_subplot(1, 2, 2)\n",
        "ax.imshow(np.reshape(y[r], (image_size, image_size)), cmap=\"viridis\")"
      ],
      "execution_count": 9,
      "outputs": [
        {
          "output_type": "execute_result",
          "data": {
            "text/plain": [
              "<matplotlib.image.AxesImage at 0x7fb5c5b24fd0>"
            ]
          },
          "metadata": {},
          "execution_count": 9
        },
        {
          "output_type": "display_data",
          "data": {
            "text/plain": [
              "<Figure size 432x288 with 2 Axes>"
            ],
            "image/png": "[encoded data removed]"
          },
          "metadata": {
            "needs_background": "light"
          }
        }
      ]
    },
    {
      "cell_type": "code",
      "metadata": {
        "id": "fXYdTk4zBPyz"
      },
      "source": [
        "initializer = tf.keras.initializers.GlorotUniform(seed=20)\n",
        "data_augmentation = tf.keras.Sequential([\n",
        "  keras.layers.RandomFlip(\"horizontal_and_vertical\"),\n",
        "  keras.layers.RandomRotation(0.2),\n",
        "  tf.keras.layers.RandomZoom(0.2)\n",
        "])\n",
        "def down_block(x, filters, kernel_size=(3, 3), padding=\"same\", strides=1):\n",
        "    c = keras.layers.Conv2D(filters, kernel_size, padding=padding, strides=strides, activation=\"tanh\", kernel_initializer=initializer)(x)\n",
        "    c = keras.layers.Conv2D(filters, kernel_size, padding=padding, strides=strides, activation=\"tanh\", kernel_initializer=initializer)(c)\n",
        "    p = keras.layers.MaxPool2D((2, 2), (2, 2))(c)\n",
        "    return c, p\n",
        "\n",
        "def up_block(x, skip, filters, kernel_size=(3, 3), padding=\"same\", strides=1):\n",
        "    us = keras.layers.UpSampling2D((2, 2))(x)\n",
        "    concat = keras.layers.Concatenate()([us, skip])\n",
        "    c = keras.layers.Conv2D(filters, kernel_size, padding=padding, strides=strides, activation=\"tanh\", kernel_initializer=initializer)(concat)\n",
        "    c = BatchNormalization()(c)\n",
        "    c = keras.layers.Conv2D(filters, kernel_size, padding=padding, strides=strides, activation=\"tanh\", kernel_initializer=initializer)(c)\n",
        "    return c\n",
        "\n",
        "def bottleneck(x, filters, kernel_size=(3, 3), padding=\"same\", strides=1):\n",
        "    c = keras.layers.Conv2D(filters, kernel_size, padding=padding, strides=strides, activation=\"tanh\", kernel_initializer=initializer)(x)\n",
        "    c = keras.layers.Conv2D(filters, kernel_size, padding=padding, strides=strides, activation=\"tanh\", kernel_initializer=initializer)(c)\n",
        "    return c\n"
      ],
      "execution_count": 10,
      "outputs": []
    },
    {
      "cell_type": "code",
      "metadata": {
        "id": "NwrUEnnyBSPP"
      },
      "source": [
        "from tensorflow.python import data\n",
        "\n",
        "def UNet():\n",
        "    f = [16,32, 64,128,256,512]\n",
        "    inputs = keras.layers.Input((image_size, image_size, 3))\n",
        "       \n",
        "    p0 = inputs\n",
        "    aug = data_augmentation(p0)\n",
        "    c1, p1 = down_block(p0, f[0]) #128 -> 64\n",
        "    c2, p2 = down_block(p1, f[1]) #64 -> 32\n",
        "    c3, p3 = down_block(p2, f[2]) #32 -> 16\n",
        "    c4, p4 = down_block(p3, f[3]) #16->8\n",
        "    \n",
        "    bn = bottleneck(p4, f[4])\n",
        "    \n",
        "    u1 = up_block(bn, c4, f[3]) #8 -> 16\n",
        "    u2 = up_block(u1,c3, f[2]) #16 -> 32\n",
        "    u3 = up_block(u2, c2, f[1]) #32 -> 64\n",
        "    u4 = up_block(u3, c1, f[0]) #64 -> 128\n",
        "    \n",
        "    outputs = keras.layers.Conv2D(1, (1, 1), padding=\"same\", activation=\"sigmoid\", kernel_initializer=initializer)(u4)\n",
        "    model = keras.models.Model(inputs, outputs)\n",
        "    return model"
      ],
      "execution_count": 11,
      "outputs": []
    },
    {
      "cell_type": "code",
      "source": [
        "model = UNet()\n",
        "opt = tf.keras.optimizers.Adam(learning_rate=0.0001)\n",
        "model.compile(optimizer=opt, loss=\"binary_crossentropy\", metrics=[\"acc\"])\n",
        "model.summary()"
      ],
      "metadata": {
        "id": "AkTEALrszLCx",
        "colab": {
          "base_uri": "https://localhost:8080/"
        },
        "outputId": "bac64149-290f-459b-f5cb-ac307c8dd550"
      },
      "execution_count": 15,
      "outputs": [
        {
          "output_type": "stream",
          "name": "stdout",
          "text": [
            "Model: \"model\"\n",
            "__________________________________________________________________________________________________\n",
            " Layer (type)                   Output Shape         Param #     Connected to                     \n",
            "==================================================================================================\n",
            " input_1 (InputLayer)           [(None, 128, 128, 3  0           []                               \n",
            "                                )]                                                                \n",
            "                                                                                                  \n",
            " conv2d (Conv2D)                (None, 128, 128, 16  448         ['input_1[0][0]']                \n",
            "                                )                                                                 \n",
            "                                                                                                  \n",
            " conv2d_1 (Conv2D)              (None, 128, 128, 16  2320        ['conv2d[0][0]']                 \n",
            "                                )                                                                 \n",
            "                                                                                                  \n",
            " max_pooling2d (MaxPooling2D)   (None, 64, 64, 16)   0           ['conv2d_1[0][0]']               \n",
            "                                                                                                  \n",
            " conv2d_2 (Conv2D)              (None, 64, 64, 32)   4640        ['max_pooling2d[0][0]']          \n",
            "                                                                                                  \n",
            " conv2d_3 (Conv2D)              (None, 64, 64, 32)   9248        ['conv2d_2[0][0]']               \n",
            "                                                                                                  \n",
            " max_pooling2d_1 (MaxPooling2D)  (None, 32, 32, 32)  0           ['conv2d_3[0][0]']               \n",
            "                                                                                                  \n",
            " conv2d_4 (Conv2D)              (None, 32, 32, 64)   18496       ['max_pooling2d_1[0][0]']        \n",
            "                                                                                                  \n",
            " conv2d_5 (Conv2D)              (None, 32, 32, 64)   36928       ['conv2d_4[0][0]']               \n",
            "                                                                                                  \n",
            " max_pooling2d_2 (MaxPooling2D)  (None, 16, 16, 64)  0           ['conv2d_5[0][0]']               \n",
            "                                                                                                  \n",
            " conv2d_6 (Conv2D)              (None, 16, 16, 128)  73856       ['max_pooling2d_2[0][0]']        \n",
            "                                                                                                  \n",
            " conv2d_7 (Conv2D)              (None, 16, 16, 128)  147584      ['conv2d_6[0][0]']               \n",
            "                                                                                                  \n",
            " max_pooling2d_3 (MaxPooling2D)  (None, 8, 8, 128)   0           ['conv2d_7[0][0]']               \n",
            "                                                                                                  \n",
            " conv2d_8 (Conv2D)              (None, 8, 8, 256)    295168      ['max_pooling2d_3[0][0]']        \n",
            "                                                                                                  \n",
            " conv2d_9 (Conv2D)              (None, 8, 8, 256)    590080      ['conv2d_8[0][0]']               \n",
            "                                                                                                  \n",
            " up_sampling2d (UpSampling2D)   (None, 16, 16, 256)  0           ['conv2d_9[0][0]']               \n",
            "                                                                                                  \n",
            " concatenate (Concatenate)      (None, 16, 16, 384)  0           ['up_sampling2d[0][0]',          \n",
            "                                                                  'conv2d_7[0][0]']               \n",
            "                                                                                                  \n",
            " conv2d_10 (Conv2D)             (None, 16, 16, 128)  442496      ['concatenate[0][0]']            \n",
            "                                                                                                  \n",
            " batch_normalization (BatchNorm  (None, 16, 16, 128)  512        ['conv2d_10[0][0]']              \n",
            " alization)                                                                                       \n",
            "                                                                                                  \n",
            " conv2d_11 (Conv2D)             (None, 16, 16, 128)  147584      ['batch_normalization[0][0]']    \n",
            "                                                                                                  \n",
            " up_sampling2d_1 (UpSampling2D)  (None, 32, 32, 128)  0          ['conv2d_11[0][0]']              \n",
            "                                                                                                  \n",
            " concatenate_1 (Concatenate)    (None, 32, 32, 192)  0           ['up_sampling2d_1[0][0]',        \n",
            "                                                                  'conv2d_5[0][0]']               \n",
            "                                                                                                  \n",
            " conv2d_12 (Conv2D)             (None, 32, 32, 64)   110656      ['concatenate_1[0][0]']          \n",
            "                                                                                                  \n",
            " batch_normalization_1 (BatchNo  (None, 32, 32, 64)  256         ['conv2d_12[0][0]']              \n",
            " rmalization)                                                                                     \n",
            "                                                                                                  \n",
            " conv2d_13 (Conv2D)             (None, 32, 32, 64)   36928       ['batch_normalization_1[0][0]']  \n",
            "                                                                                                  \n",
            " up_sampling2d_2 (UpSampling2D)  (None, 64, 64, 64)  0           ['conv2d_13[0][0]']              \n",
            "                                                                                                  \n",
            " concatenate_2 (Concatenate)    (None, 64, 64, 96)   0           ['up_sampling2d_2[0][0]',        \n",
            "                                                                  'conv2d_3[0][0]']               \n",
            "                                                                                                  \n",
            " conv2d_14 (Conv2D)             (None, 64, 64, 32)   27680       ['concatenate_2[0][0]']          \n",
            "                                                                                                  \n",
            " batch_normalization_2 (BatchNo  (None, 64, 64, 32)  128         ['conv2d_14[0][0]']              \n",
            " rmalization)                                                                                     \n",
            "                                                                                                  \n",
            " conv2d_15 (Conv2D)             (None, 64, 64, 32)   9248        ['batch_normalization_2[0][0]']  \n",
            "                                                                                                  \n",
            " up_sampling2d_3 (UpSampling2D)  (None, 128, 128, 32  0          ['conv2d_15[0][0]']              \n",
            "                                )                                                                 \n",
            "                                                                                                  \n",
            " concatenate_3 (Concatenate)    (None, 128, 128, 48  0           ['up_sampling2d_3[0][0]',        \n",
            "                                )                                 'conv2d_1[0][0]']               \n",
            "                                                                                                  \n",
            " conv2d_16 (Conv2D)             (None, 128, 128, 16  6928        ['concatenate_3[0][0]']          \n",
            "                                )                                                                 \n",
            "                                                                                                  \n",
            " batch_normalization_3 (BatchNo  (None, 128, 128, 16  64         ['conv2d_16[0][0]']              \n",
            " rmalization)                   )                                                                 \n",
            "                                                                                                  \n",
            " conv2d_17 (Conv2D)             (None, 128, 128, 16  2320        ['batch_normalization_3[0][0]']  \n",
            "                                )                                                                 \n",
            "                                                                                                  \n",
            " conv2d_18 (Conv2D)             (None, 128, 128, 1)  17          ['conv2d_17[0][0]']              \n",
            "                                                                                                  \n",
            "==================================================================================================\n",
            "Total params: 1,963,585\n",
            "Trainable params: 1,963,105\n",
            "Non-trainable params: 480\n",
            "__________________________________________________________________________________________________\n"
          ]
        }
      ]
    },
    {
      "cell_type": "code",
      "metadata": {
        "colab": {
          "base_uri": "https://localhost:8080/"
        },
        "id": "LzfkjtoNBVe6",
        "outputId": "a2acf8f1-7e02-441b-e67d-6a33e6768734"
      },
      "source": [
        "train_gen = DataGen(train_ids, train_path, image_size=image_size, batch_size=batch_size)\n",
        "valid_gen = DataGen(valid_ids, train_path, image_size=image_size, batch_size=batch_size)\n",
        "\n",
        "train_steps = len(train_ids)//batch_size\n",
        "valid_steps = max(len(valid_ids)//batch_size,1)\n",
        "\n",
        "print(train_steps)\n",
        "\n",
        "\n",
        "early_stopping_callback = EarlyStopping(monitor='loss', patience=3)\n",
        "\n",
        "hist = model.fit(train_gen, validation_data=valid_gen, steps_per_epoch=train_steps, validation_steps=valid_steps,epochs=30, callbacks=[early_stopping_callback])"
      ],
      "execution_count": 16,
      "outputs": [
        {
          "output_type": "stream",
          "name": "stdout",
          "text": [
            "6\n",
            "Epoch 1/30\n",
            "6/6 [==============================] - 41s 4s/step - loss: 0.7391 - acc: 0.5700 - val_loss: 0.9358 - val_acc: 0.0470\n",
            "Epoch 2/30\n",
            "6/6 [==============================] - 12s 2s/step - loss: 0.5186 - acc: 0.8126 - val_loss: 0.8793 - val_acc: 0.0679\n",
            "Epoch 3/30\n",
            "6/6 [==============================] - 14s 2s/step - loss: 0.4464 - acc: 0.9246 - val_loss: 0.8499 - val_acc: 0.0933\n",
            "Epoch 4/30\n",
            "6/6 [==============================] - 6s 1s/step - loss: 0.3963 - acc: 0.9598 - val_loss: 0.8034 - val_acc: 0.1723\n",
            "Epoch 5/30\n",
            "6/6 [==============================] - 3s 423ms/step - loss: 0.3618 - acc: 0.9685 - val_loss: 0.7761 - val_acc: 0.2515\n",
            "Epoch 6/30\n",
            "6/6 [==============================] - 3s 430ms/step - loss: 0.3341 - acc: 0.9755 - val_loss: 0.7664 - val_acc: 0.2641\n",
            "Epoch 7/30\n",
            "6/6 [==============================] - 3s 437ms/step - loss: 0.3108 - acc: 0.9783 - val_loss: 0.7265 - val_acc: 0.3872\n",
            "Epoch 8/30\n",
            "6/6 [==============================] - 3s 433ms/step - loss: 0.2952 - acc: 0.9768 - val_loss: 0.6884 - val_acc: 0.5012\n",
            "Epoch 9/30\n",
            "6/6 [==============================] - 3s 425ms/step - loss: 0.2755 - acc: 0.9826 - val_loss: 0.6587 - val_acc: 0.5422\n",
            "Epoch 10/30\n",
            "6/6 [==============================] - 3s 421ms/step - loss: 0.2606 - acc: 0.9827 - val_loss: 0.6220 - val_acc: 0.6525\n",
            "Epoch 11/30\n",
            "6/6 [==============================] - 3s 417ms/step - loss: 0.2489 - acc: 0.9809 - val_loss: 0.5922 - val_acc: 0.7451\n",
            "Epoch 12/30\n",
            "6/6 [==============================] - 3s 420ms/step - loss: 0.2380 - acc: 0.9806 - val_loss: 0.5521 - val_acc: 0.8589\n",
            "Epoch 13/30\n",
            "6/6 [==============================] - 2s 409ms/step - loss: 0.2309 - acc: 0.9777 - val_loss: 0.5113 - val_acc: 0.9180\n",
            "Epoch 14/30\n",
            "6/6 [==============================] - 3s 416ms/step - loss: 0.2169 - acc: 0.9820 - val_loss: 0.4956 - val_acc: 0.9097\n",
            "Epoch 15/30\n",
            "6/6 [==============================] - 2s 411ms/step - loss: 0.2052 - acc: 0.9842 - val_loss: 0.4512 - val_acc: 0.9525\n",
            "Epoch 16/30\n",
            "6/6 [==============================] - 3s 419ms/step - loss: 0.2019 - acc: 0.9804 - val_loss: 0.4082 - val_acc: 0.9752\n",
            "Epoch 17/30\n",
            "6/6 [==============================] - 3s 415ms/step - loss: 0.1962 - acc: 0.9796 - val_loss: 0.3839 - val_acc: 0.9700\n",
            "Epoch 18/30\n",
            "6/6 [==============================] - 3s 416ms/step - loss: 0.1870 - acc: 0.9813 - val_loss: 0.3540 - val_acc: 0.9752\n",
            "Epoch 19/30\n",
            "6/6 [==============================] - 3s 413ms/step - loss: 0.1810 - acc: 0.9806 - val_loss: 0.3355 - val_acc: 0.9743\n",
            "Epoch 20/30\n",
            "6/6 [==============================] - 3s 414ms/step - loss: 0.1751 - acc: 0.9804 - val_loss: 0.3193 - val_acc: 0.9731\n",
            "Epoch 21/30\n",
            "6/6 [==============================] - 3s 417ms/step - loss: 0.1692 - acc: 0.9819 - val_loss: 0.2958 - val_acc: 0.9802\n",
            "Epoch 22/30\n",
            "6/6 [==============================] - 3s 417ms/step - loss: 0.1630 - acc: 0.9816 - val_loss: 0.2761 - val_acc: 0.9844\n",
            "Epoch 23/30\n",
            "6/6 [==============================] - 3s 417ms/step - loss: 0.1582 - acc: 0.9831 - val_loss: 0.2794 - val_acc: 0.9765\n",
            "Epoch 24/30\n",
            "6/6 [==============================] - 3s 489ms/step - loss: 0.1557 - acc: 0.9811 - val_loss: 0.2500 - val_acc: 0.9879\n",
            "Epoch 25/30\n",
            "6/6 [==============================] - 3s 496ms/step - loss: 0.1519 - acc: 0.9810 - val_loss: 0.2356 - val_acc: 0.9900\n",
            "Epoch 26/30\n",
            "6/6 [==============================] - 3s 419ms/step - loss: 0.1408 - acc: 0.9875 - val_loss: 0.2385 - val_acc: 0.9788\n",
            "Epoch 27/30\n",
            "6/6 [==============================] - 3s 422ms/step - loss: 0.1396 - acc: 0.9853 - val_loss: 0.2145 - val_acc: 0.9886\n",
            "Epoch 28/30\n",
            "6/6 [==============================] - 3s 426ms/step - loss: 0.1382 - acc: 0.9845 - val_loss: 0.2048 - val_acc: 0.9910\n",
            "Epoch 29/30\n",
            "6/6 [==============================] - 3s 417ms/step - loss: 0.1323 - acc: 0.9858 - val_loss: 0.1859 - val_acc: 0.9941\n",
            "Epoch 30/30\n",
            "6/6 [==============================] - 3s 423ms/step - loss: 0.1352 - acc: 0.9821 - val_loss: 0.1719 - val_acc: 0.9926\n"
          ]
        }
      ]
    },
    {
      "cell_type": "code",
      "metadata": {
        "colab": {
          "base_uri": "https://localhost:8080/"
        },
        "id": "m5BYRdoQxk_n",
        "outputId": "43ff5f76-12a6-4364-d899-4c699b19c56c"
      },
      "source": [
        "print(valid_gen.__len__())\n",
        "print(valid_steps)"
      ],
      "execution_count": 17,
      "outputs": [
        {
          "output_type": "stream",
          "name": "stdout",
          "text": [
            "10\n",
            "1\n"
          ]
        }
      ]
    },
    {
      "cell_type": "code",
      "metadata": {
        "id": "U4xfyU5GBYzZ"
      },
      "source": [
        "## Save the Weights\n",
        "model.save_weights(\"UNetW.h5\")\n"
      ],
      "execution_count": 18,
      "outputs": []
    },
    {
      "cell_type": "code",
      "metadata": {
        "colab": {
          "base_uri": "https://localhost:8080/",
          "height": 157
        },
        "id": "XqnV5GwpBoeU",
        "outputId": "ee659227-9d4c-4956-b003-046878e32cb3"
      },
      "source": [
        "x, y = valid_gen.__getitem__(8)\n",
        "# print(x,y)\n",
        "result = model.predict(x)\n",
        "result =result >0.4\n",
        "\n",
        "fig = plt.figure()\n",
        "fig.subplots_adjust(hspace=0.4, wspace=0.4)\n",
        "i=0\n",
        "ax = fig.add_subplot(1, 3, 1)\n",
        "ax.imshow(np.reshape(x[i], (image_size, image_size,3)), cmap=\"gray\")\n",
        "\n",
        "ax = fig.add_subplot(1, 3, 2)\n",
        "ax.imshow(np.reshape(result[i]*255, (image_size, image_size)), cmap=\"viridis\")\n",
        "\n",
        "ax = fig.add_subplot(1, 3, 3)\n",
        "ax.imshow(np.reshape((1-result[i])*255, (image_size, image_size)), cmap=\"viridis\")"
      ],
      "execution_count": 19,
      "outputs": [
        {
          "output_type": "execute_result",
          "data": {
            "text/plain": [
              "<matplotlib.image.AxesImage at 0x7fb5c1a1bb90>"
            ]
          },
          "metadata": {},
          "execution_count": 19
        },
        {
          "output_type": "display_data",
          "data": {
            "text/plain": [
              "<Figure size 432x288 with 3 Axes>"
            ],
            "image/png": "[encoded data removed]"
          },
          "metadata": {
            "needs_background": "light"
          }
        }
      ]
    },
    {
      "cell_type": "code",
      "metadata": {
        "id": "qSNj9IwYBrLv"
      },
      "source": [],
      "execution_count": null,
      "outputs": []
    }
  ]
}