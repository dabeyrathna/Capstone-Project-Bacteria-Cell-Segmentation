{
  "nbformat": 4,
  "nbformat_minor": 0,
  "metadata": {
    "colab": {
      "provenance": []
    },
    "kernelspec": {
      "name": "python3",
      "display_name": "Python 3"
    },
    "accelerator": "GPU"
  },
  "cells": [
    {
      "cell_type": "code",
      "metadata": {
        "colab": {
          "base_uri": "https://localhost:8080/"
        },
        "id": "l4EBq3nQ_uPY",
        "outputId": "d2cd5b64-b68d-4900-9e01-1a2e4c4c5cea"
      },
      "source": [
        "from google.colab import drive\n",
        "drive.mount('/content/gdrive')"
      ],
      "execution_count": 121,
      "outputs": [
        {
          "output_type": "stream",
          "name": "stdout",
          "text": [
            "Mounted at /content/gdrive\n"
          ]
        }
      ]
    },
    {
      "cell_type": "code",
      "metadata": {
        "id": "amEnxCRi_5OH"
      },
      "source": [
        "import os\n",
        "# root_path = 'gdrive/My Drive/bio_film'\n",
        "root_path = 'gdrive/My Drive/UNET/'\n",
        "os.chdir(root_path)"
      ],
      "execution_count": 2,
      "outputs": []
    },
    {
      "cell_type": "code",
      "metadata": {
        "id": "lj8mAH4SALBg"
      },
      "source": [
        "import os\n",
        "import sys\n",
        "import random\n",
        "import numpy as np\n",
        "import cv2\n",
        "import matplotlib.pyplot as plt\n",
        "import tensorflow as tf\n",
        "from tensorflow import keras\n",
        "from keras.layers import UpSampling2D, Dropout, BatchNormalization\n",
        "from keras.callbacks import EarlyStopping\n",
        "\n",
        "## Seeding \n",
        "seed = 2022\n",
        "random.seed = seed\n",
        "np.random.seed = seed\n",
        "tf.seed = seed"
      ],
      "execution_count": 3,
      "outputs": []
    },
    {
      "cell_type": "code",
      "metadata": {
        "id": "-ybo77QGAjBR"
      },
      "source": [
        "class DataGen(keras.utils.Sequence):\n",
        "    def __init__(self, ids, path, batch_size=8, image_size=128):\n",
        "        self.ids = ids\n",
        "        self.path = path\n",
        "        self.batch_size = batch_size\n",
        "        self.image_size = image_size\n",
        "        self.on_epoch_end()\n",
        "        \n",
        "    def __load__(self, id_name):\n",
        "        ## Path\n",
        "        image_path = os.path.join(self.path, id_name, \"images\", id_name) + \".png\"\n",
        "        mask_path = os.path.join(self.path, id_name, \"masks/\")\n",
        "        all_masks = os.listdir(mask_path)\n",
        "        \n",
        "        ## Reading Image\n",
        "        image = cv2.imread(image_path, 1)\n",
        "        image = cv2.resize(image, (self.image_size, self.image_size))\n",
        "        \n",
        "        mask = np.zeros((self.image_size, self.image_size, 1))\n",
        "        \n",
        "        ## Reading Masks\n",
        "        for name in all_masks:\n",
        "            _mask_path = mask_path + name\n",
        "            _mask_image = cv2.imread(_mask_path, -1)\n",
        "            _mask_image = cv2.resize(_mask_image, (self.image_size, self.image_size)) #128x128\n",
        "            _mask_image = np.expand_dims(_mask_image, axis=-1)\n",
        "            mask = np.maximum(mask, _mask_image)\n",
        "            \n",
        "        ## Normalizaing \n",
        "        image = image/255.0\n",
        "        mask = mask/255.0\n",
        "        \n",
        "        return image, mask\n",
        "    \n",
        "    def __getitem__(self, index):\n",
        "        if(index+1)*self.batch_size > len(self.ids):\n",
        "            self.batch_size = len(self.ids) - index*self.batch_size\n",
        "        \n",
        "        files_batch = self.ids[index*self.batch_size : (index+1)*self.batch_size]\n",
        "        \n",
        "        image = []\n",
        "        mask  = []\n",
        "        \n",
        "        for id_name in files_batch:\n",
        "            _img, _mask = self.__load__(id_name)\n",
        "            image.append(_img)\n",
        "            mask.append(_mask)\n",
        "            \n",
        "        image = np.array(image)\n",
        "        mask  = np.array(mask)\n",
        "        \n",
        "        return image, mask\n",
        "    \n",
        "    def on_epoch_end(self):\n",
        "        pass\n",
        "    \n",
        "    def __len__(self):\n",
        "        return int(np.ceil(len(self.ids)/float(self.batch_size)))"
      ],
      "execution_count": 4,
      "outputs": []
    },
    {
      "cell_type": "code",
      "metadata": {
        "id": "f-amp8vyA-f-"
      },
      "source": [
        "image_size = 128\n",
        "train_path = \"train\"\n",
        "val_path = \"test\"\n",
        "epochs = 10\n",
        "batch_size =9\n",
        "\n",
        "## Training Ids\n",
        "train_ids = next(os.walk(train_path))[1]\n",
        "valid_ids = next(os.walk(val_path))[1]\n",
        "\n",
        "## Validation Data Size\n",
        "val_data_size = 10\n",
        "\n",
        "valid_ids = train_ids[:val_data_size]\n",
        "train_ids = train_ids#[val_data_size:]"
      ],
      "execution_count": 5,
      "outputs": []
    },
    {
      "cell_type": "code",
      "metadata": {
        "colab": {
          "base_uri": "https://localhost:8080/"
        },
        "id": "z77JW0MOBEst",
        "outputId": "53188398-2d30-4b19-af87-2a53e76b7b2e"
      },
      "source": [
        "len(train_ids)\n",
        "len(valid_ids)"
      ],
      "execution_count": 6,
      "outputs": [
        {
          "output_type": "execute_result",
          "data": {
            "text/plain": [
              "10"
            ]
          },
          "metadata": {},
          "execution_count": 6
        }
      ]
    },
    {
      "cell_type": "code",
      "metadata": {
        "colab": {
          "base_uri": "https://localhost:8080/"
        },
        "id": "Ed4DKGHBBGau",
        "outputId": "2bb9b545-ead5-4f2d-9121-5d9dcddcf7d2"
      },
      "source": [
        "gen = DataGen(train_ids, train_path, batch_size=batch_size, image_size=image_size)\n",
        "x, y = gen.__getitem__(0)\n",
        "print(x.shape, y.shape)"
      ],
      "execution_count": 7,
      "outputs": [
        {
          "output_type": "stream",
          "name": "stdout",
          "text": [
            "(9, 128, 128, 3) (9, 128, 128, 1)\n"
          ]
        }
      ]
    },
    {
      "cell_type": "code",
      "metadata": {
        "colab": {
          "base_uri": "https://localhost:8080/",
          "height": 298
        },
        "id": "9raToETki_Zp",
        "outputId": "87b41f6a-4991-4d51-8f38-e4eb9222376c"
      },
      "source": [
        "from re import I\n",
        "x, y = gen.__getitem__(0)\n",
        "\n",
        "fig = plt.figure()\n",
        "fig.subplots_adjust(hspace=0.4, wspace=0.4)\n",
        "\n",
        "for i in range(2): \n",
        "  ax = fig.add_subplot(1, 2, 1)\n",
        "  ax.imshow(np.reshape(y[i]*255, (image_size, image_size)), cmap=\"gray\")\n",
        "  ax = fig.add_subplot(1, 2, 2)\n",
        "  ax.imshow(np.reshape(x[i], (image_size, image_size,3)), cmap=\"gray\")\n",
        "\n",
        "print(x.shape)"
      ],
      "execution_count": 8,
      "outputs": [
        {
          "output_type": "stream",
          "name": "stdout",
          "text": [
            "(9, 128, 128, 3)\n"
          ]
        },
        {
          "output_type": "stream",
          "name": "stderr",
          "text": [
            "/usr/local/lib/python3.7/dist-packages/ipykernel_launcher.py:8: MatplotlibDeprecationWarning: Adding an axes using the same arguments as a previous axes currently reuses the earlier instance.  In a future version, a new instance will always be created and returned.  Meanwhile, this warning can be suppressed, and the future behavior ensured, by passing a unique label to each axes instance.\n",
            "  \n",
            "/usr/local/lib/python3.7/dist-packages/ipykernel_launcher.py:10: MatplotlibDeprecationWarning: Adding an axes using the same arguments as a previous axes currently reuses the earlier instance.  In a future version, a new instance will always be created and returned.  Meanwhile, this warning can be suppressed, and the future behavior ensured, by passing a unique label to each axes instance.\n",
            "  # Remove the CWD from sys.path while we load stuff.\n"
          ]
        },
        {
          "output_type": "display_data",
          "data": {
            "text/plain": [
              "<Figure size 432x288 with 2 Axes>"
            ],
            "image/png": "[encoded data removed]"
          },
          "metadata": {
            "needs_background": "light"
          }
        }
      ]
    },
    {
      "cell_type": "code",
      "metadata": {
        "colab": {
          "base_uri": "https://localhost:8080/",
          "height": 208
        },
        "id": "1caqEz9rBJtB",
        "outputId": "e03ceefe-6006-4935-841b-508e5f9e9253"
      },
      "source": [
        "r = random.randint(0, len(x)-1)\n",
        "\n",
        "fig = plt.figure()\n",
        "fig.subplots_adjust(hspace=0.4, wspace=0.4)\n",
        "ax = fig.add_subplot(1, 2, 1)\n",
        "ax.imshow(x[r])\n",
        "ax = fig.add_subplot(1, 2, 2)\n",
        "ax.imshow(np.reshape(y[r], (image_size, image_size)), cmap=\"viridis\")"
      ],
      "execution_count": 9,
      "outputs": [
        {
          "output_type": "execute_result",
          "data": {
            "text/plain": [
              "<matplotlib.image.AxesImage at 0x7fa30ef06b10>"
            ]
          },
          "metadata": {},
          "execution_count": 9
        },
        {
          "output_type": "display_data",
          "data": {
            "text/plain": [
              "<Figure size 432x288 with 2 Axes>"
            ],
            "image/png": "[encoded data removed]"
          },
          "metadata": {
            "needs_background": "light"
          }
        }
      ]
    },
    {
      "cell_type": "code",
      "metadata": {
        "id": "fXYdTk4zBPyz"
      },
      "source": [
        "initializer = tf.keras.initializers.GlorotUniform(seed=20)\n",
        "data_augmentation = tf.keras.Sequential([\n",
        "  keras.layers.RandomFlip(\"horizontal_and_vertical\"),\n",
        "  keras.layers.RandomRotation(0.2),\n",
        "  tf.keras.layers.RandomZoom(0.2)\n",
        "])\n",
        "def down_block(x, filters, kernel_size=(3, 3), padding=\"same\", strides=1):\n",
        "    c = keras.layers.Conv2D(filters, kernel_size, padding=padding, strides=strides, activation=\"tanh\", kernel_initializer=initializer)(x)\n",
        "    c = keras.layers.Conv2D(filters, kernel_size, padding=padding, strides=strides, activation=\"tanh\", kernel_initializer=initializer)(c)\n",
        "    p = keras.layers.MaxPool2D((2, 2), (2, 2))(c)\n",
        "    return c, p\n",
        "\n",
        "def up_block(x, skip, filters, kernel_size=(3, 3), padding=\"same\", strides=1):\n",
        "    us = keras.layers.UpSampling2D((2, 2))(x)\n",
        "    concat = keras.layers.Concatenate()([us, skip])\n",
        "    c = keras.layers.Conv2D(filters, kernel_size, padding=padding, strides=strides, activation=\"tanh\", kernel_initializer=initializer)(concat)\n",
        "    c = BatchNormalization()(c)\n",
        "    c = keras.layers.Conv2D(filters, kernel_size, padding=padding, strides=strides, activation=\"tanh\", kernel_initializer=initializer)(c)\n",
        "    return c\n",
        "\n",
        "def bottleneck(x, filters, kernel_size=(3, 3), padding=\"same\", strides=1):\n",
        "    c = keras.layers.Conv2D(filters, kernel_size, padding=padding, strides=strides, activation=\"tanh\", kernel_initializer=initializer)(x)\n",
        "    c = keras.layers.Conv2D(filters, kernel_size, padding=padding, strides=strides, activation=\"tanh\", kernel_initializer=initializer)(c)\n",
        "    return c\n"
      ],
      "execution_count": 35,
      "outputs": []
    },
    {
      "cell_type": "code",
      "metadata": {
        "id": "NwrUEnnyBSPP"
      },
      "source": [
        "from tensorflow.python import data\n",
        "\n",
        "def UNet():\n",
        "    f = [16,32, 64,128,256,512]\n",
        "    inputs = keras.layers.Input((image_size, image_size, 3))\n",
        "    \n",
        "\n",
        "    \n",
        "    p0 = inputs\n",
        "    aug = data_augmentation(p0)\n",
        "    c1, p1 = down_block(p0, f[0]) #128 -> 64\n",
        "    c2, p2 = down_block(p1, f[1]) #64 -> 32\n",
        "    c3, p3 = down_block(p2, f[2]) #32 -> 16\n",
        "    c4, p4 = down_block(p3, f[3]) #16->8\n",
        "    \n",
        "    bn = bottleneck(p4, f[4])\n",
        "    \n",
        "    u1 = up_block(bn, c4, f[3]) #8 -> 16\n",
        "    u2 = up_block(u1,c3, f[2]) #16 -> 32\n",
        "    u3 = up_block(u2, c2, f[1]) #32 -> 64\n",
        "    u4 = up_block(u3, c1, f[0]) #64 -> 128\n",
        "    \n",
        "    outputs = keras.layers.Conv2D(1, (1, 1), padding=\"same\", activation=\"sigmoid\", kernel_initializer=initializer)(u4)\n",
        "    model = keras.models.Model(inputs, outputs)\n",
        "    return model"
      ],
      "execution_count": 62,
      "outputs": []
    },
    {
      "cell_type": "code",
      "source": [
        "# !pip install keras_unet"
      ],
      "metadata": {
        "id": "BnSp_GTAwksY"
      },
      "execution_count": 63,
      "outputs": []
    },
    {
      "cell_type": "code",
      "source": [
        "# from keras_unet.models import custom_unet\n",
        "\n",
        "# model1 = custom_unet(\n",
        "#     input_shape=(128, 128, 3),\n",
        "#     use_batch_norm=True,\n",
        "#     num_classes=1,\n",
        "#     filters=64,\n",
        "#     dropout=0.2,\n",
        "#     output_activation='sigmoid')"
      ],
      "metadata": {
        "id": "6eoHcrg9wgjB"
      },
      "execution_count": 64,
      "outputs": []
    },
    {
      "cell_type": "code",
      "metadata": {
        "id": "tbrOvix_BT_7"
      },
      "source": [
        "# model1.summary()\n"
      ],
      "execution_count": 65,
      "outputs": []
    },
    {
      "cell_type": "code",
      "source": [
        "\n",
        "model = UNet()\n",
        "opt = tf.keras.optimizers.Adam(learning_rate=0.0001)\n",
        "model.compile(optimizer=opt, loss=\"binary_crossentropy\", metrics=[\"acc\"])\n",
        "model.summary()"
      ],
      "metadata": {
        "id": "AkTEALrszLCx",
        "colab": {
          "base_uri": "https://localhost:8080/"
        },
        "outputId": "5a439180-68e3-41d6-f3ef-a7d870968e54"
      },
      "execution_count": 66,
      "outputs": [
        {
          "output_type": "stream",
          "name": "stdout",
          "text": [
            "Model: \"model_4\"\n",
            "__________________________________________________________________________________________________\n",
            " Layer (type)                   Output Shape         Param #     Connected to                     \n",
            "==================================================================================================\n",
            " input_5 (InputLayer)           [(None, 128, 128, 3  0           []                               \n",
            "                                )]                                                                \n",
            "                                                                                                  \n",
            " conv2d_76 (Conv2D)             (None, 128, 128, 16  448         ['input_5[0][0]']                \n",
            "                                )                                                                 \n",
            "                                                                                                  \n",
            " conv2d_77 (Conv2D)             (None, 128, 128, 16  2320        ['conv2d_76[0][0]']              \n",
            "                                )                                                                 \n",
            "                                                                                                  \n",
            " max_pooling2d_16 (MaxPooling2D  (None, 64, 64, 16)  0           ['conv2d_77[0][0]']              \n",
            " )                                                                                                \n",
            "                                                                                                  \n",
            " conv2d_78 (Conv2D)             (None, 64, 64, 32)   4640        ['max_pooling2d_16[0][0]']       \n",
            "                                                                                                  \n",
            " conv2d_79 (Conv2D)             (None, 64, 64, 32)   9248        ['conv2d_78[0][0]']              \n",
            "                                                                                                  \n",
            " max_pooling2d_17 (MaxPooling2D  (None, 32, 32, 32)  0           ['conv2d_79[0][0]']              \n",
            " )                                                                                                \n",
            "                                                                                                  \n",
            " conv2d_80 (Conv2D)             (None, 32, 32, 64)   18496       ['max_pooling2d_17[0][0]']       \n",
            "                                                                                                  \n",
            " conv2d_81 (Conv2D)             (None, 32, 32, 64)   36928       ['conv2d_80[0][0]']              \n",
            "                                                                                                  \n",
            " max_pooling2d_18 (MaxPooling2D  (None, 16, 16, 64)  0           ['conv2d_81[0][0]']              \n",
            " )                                                                                                \n",
            "                                                                                                  \n",
            " conv2d_82 (Conv2D)             (None, 16, 16, 128)  73856       ['max_pooling2d_18[0][0]']       \n",
            "                                                                                                  \n",
            " conv2d_83 (Conv2D)             (None, 16, 16, 128)  147584      ['conv2d_82[0][0]']              \n",
            "                                                                                                  \n",
            " max_pooling2d_19 (MaxPooling2D  (None, 8, 8, 128)   0           ['conv2d_83[0][0]']              \n",
            " )                                                                                                \n",
            "                                                                                                  \n",
            " conv2d_84 (Conv2D)             (None, 8, 8, 256)    295168      ['max_pooling2d_19[0][0]']       \n",
            "                                                                                                  \n",
            " conv2d_85 (Conv2D)             (None, 8, 8, 256)    590080      ['conv2d_84[0][0]']              \n",
            "                                                                                                  \n",
            " up_sampling2d_16 (UpSampling2D  (None, 16, 16, 256)  0          ['conv2d_85[0][0]']              \n",
            " )                                                                                                \n",
            "                                                                                                  \n",
            " concatenate_16 (Concatenate)   (None, 16, 16, 384)  0           ['up_sampling2d_16[0][0]',       \n",
            "                                                                  'conv2d_83[0][0]']              \n",
            "                                                                                                  \n",
            " conv2d_86 (Conv2D)             (None, 16, 16, 128)  442496      ['concatenate_16[0][0]']         \n",
            "                                                                                                  \n",
            " batch_normalization_16 (BatchN  (None, 16, 16, 128)  512        ['conv2d_86[0][0]']              \n",
            " ormalization)                                                                                    \n",
            "                                                                                                  \n",
            " conv2d_87 (Conv2D)             (None, 16, 16, 128)  147584      ['batch_normalization_16[0][0]'] \n",
            "                                                                                                  \n",
            " up_sampling2d_17 (UpSampling2D  (None, 32, 32, 128)  0          ['conv2d_87[0][0]']              \n",
            " )                                                                                                \n",
            "                                                                                                  \n",
            " concatenate_17 (Concatenate)   (None, 32, 32, 192)  0           ['up_sampling2d_17[0][0]',       \n",
            "                                                                  'conv2d_81[0][0]']              \n",
            "                                                                                                  \n",
            " conv2d_88 (Conv2D)             (None, 32, 32, 64)   110656      ['concatenate_17[0][0]']         \n",
            "                                                                                                  \n",
            " batch_normalization_17 (BatchN  (None, 32, 32, 64)  256         ['conv2d_88[0][0]']              \n",
            " ormalization)                                                                                    \n",
            "                                                                                                  \n",
            " conv2d_89 (Conv2D)             (None, 32, 32, 64)   36928       ['batch_normalization_17[0][0]'] \n",
            "                                                                                                  \n",
            " up_sampling2d_18 (UpSampling2D  (None, 64, 64, 64)  0           ['conv2d_89[0][0]']              \n",
            " )                                                                                                \n",
            "                                                                                                  \n",
            " concatenate_18 (Concatenate)   (None, 64, 64, 96)   0           ['up_sampling2d_18[0][0]',       \n",
            "                                                                  'conv2d_79[0][0]']              \n",
            "                                                                                                  \n",
            " conv2d_90 (Conv2D)             (None, 64, 64, 32)   27680       ['concatenate_18[0][0]']         \n",
            "                                                                                                  \n",
            " batch_normalization_18 (BatchN  (None, 64, 64, 32)  128         ['conv2d_90[0][0]']              \n",
            " ormalization)                                                                                    \n",
            "                                                                                                  \n",
            " conv2d_91 (Conv2D)             (None, 64, 64, 32)   9248        ['batch_normalization_18[0][0]'] \n",
            "                                                                                                  \n",
            " up_sampling2d_19 (UpSampling2D  (None, 128, 128, 32  0          ['conv2d_91[0][0]']              \n",
            " )                              )                                                                 \n",
            "                                                                                                  \n",
            " concatenate_19 (Concatenate)   (None, 128, 128, 48  0           ['up_sampling2d_19[0][0]',       \n",
            "                                )                                 'conv2d_77[0][0]']              \n",
            "                                                                                                  \n",
            " conv2d_92 (Conv2D)             (None, 128, 128, 16  6928        ['concatenate_19[0][0]']         \n",
            "                                )                                                                 \n",
            "                                                                                                  \n",
            " batch_normalization_19 (BatchN  (None, 128, 128, 16  64         ['conv2d_92[0][0]']              \n",
            " ormalization)                  )                                                                 \n",
            "                                                                                                  \n",
            " conv2d_93 (Conv2D)             (None, 128, 128, 16  2320        ['batch_normalization_19[0][0]'] \n",
            "                                )                                                                 \n",
            "                                                                                                  \n",
            " conv2d_94 (Conv2D)             (None, 128, 128, 1)  17          ['conv2d_93[0][0]']              \n",
            "                                                                                                  \n",
            "==================================================================================================\n",
            "Total params: 1,963,585\n",
            "Trainable params: 1,963,105\n",
            "Non-trainable params: 480\n",
            "__________________________________________________________________________________________________\n"
          ]
        }
      ]
    },
    {
      "cell_type": "code",
      "metadata": {
        "colab": {
          "base_uri": "https://localhost:8080/"
        },
        "id": "LzfkjtoNBVe6",
        "outputId": "0a33bad1-0b35-46a4-d41a-7b66e10fb5f4"
      },
      "source": [
        "train_gen = DataGen(train_ids, train_path, image_size=image_size, batch_size=batch_size)\n",
        "valid_gen = DataGen(valid_ids, train_path, image_size=image_size, batch_size=batch_size)\n",
        "\n",
        "train_steps = len(train_ids)//batch_size\n",
        "valid_steps = max(len(valid_ids)//batch_size,1)\n",
        "\n",
        "print(train_steps)\n",
        "\n",
        "\n",
        "early_stopping_callback = EarlyStopping(monitor='loss', patience=3)\n",
        "\n",
        "hist = model.fit(train_gen, validation_data=valid_gen, steps_per_epoch=train_steps, validation_steps=valid_steps,epochs=30, callbacks=[early_stopping_callback])"
      ],
      "execution_count": 67,
      "outputs": [
        {
          "output_type": "stream",
          "name": "stdout",
          "text": [
            "6\n",
            "Epoch 1/40\n",
            "6/6 [==============================] - 8s 1s/step - loss: 0.6908 - acc: 0.5975 - val_loss: 0.6928 - val_acc: 0.6005\n",
            "Epoch 2/40\n",
            "6/6 [==============================] - 3s 419ms/step - loss: 0.5390 - acc: 0.8639 - val_loss: 0.7035 - val_acc: 0.5586\n",
            "Epoch 3/40\n",
            "6/6 [==============================] - 3s 416ms/step - loss: 0.4858 - acc: 0.9362 - val_loss: 0.7233 - val_acc: 0.4282\n",
            "Epoch 4/40\n",
            "6/6 [==============================] - 2s 412ms/step - loss: 0.4520 - acc: 0.9704 - val_loss: 0.7212 - val_acc: 0.4581\n",
            "Epoch 5/40\n",
            "6/6 [==============================] - 3s 416ms/step - loss: 0.4268 - acc: 0.9783 - val_loss: 0.7235 - val_acc: 0.3823\n",
            "Epoch 6/40\n",
            "6/6 [==============================] - 3s 419ms/step - loss: 0.4064 - acc: 0.9771 - val_loss: 0.7104 - val_acc: 0.4152\n",
            "Epoch 7/40\n",
            "6/6 [==============================] - 2s 410ms/step - loss: 0.3862 - acc: 0.9822 - val_loss: 0.6899 - val_acc: 0.6088\n",
            "Epoch 8/40\n",
            "6/6 [==============================] - 3s 414ms/step - loss: 0.3681 - acc: 0.9819 - val_loss: 0.6665 - val_acc: 0.6438\n",
            "Epoch 9/40\n",
            "6/6 [==============================] - 3s 413ms/step - loss: 0.3526 - acc: 0.9808 - val_loss: 0.6505 - val_acc: 0.6942\n",
            "Epoch 10/40\n",
            "6/6 [==============================] - 3s 418ms/step - loss: 0.3383 - acc: 0.9816 - val_loss: 0.6221 - val_acc: 0.7984\n",
            "Epoch 11/40\n",
            "6/6 [==============================] - 3s 608ms/step - loss: 0.3235 - acc: 0.9823 - val_loss: 0.5935 - val_acc: 0.8522\n",
            "Epoch 12/40\n",
            "6/6 [==============================] - 3s 418ms/step - loss: 0.3076 - acc: 0.9846 - val_loss: 0.5712 - val_acc: 0.8721\n",
            "Epoch 13/40\n",
            "6/6 [==============================] - 3s 419ms/step - loss: 0.2973 - acc: 0.9824 - val_loss: 0.5509 - val_acc: 0.8903\n",
            "Epoch 14/40\n",
            "6/6 [==============================] - 3s 415ms/step - loss: 0.2847 - acc: 0.9840 - val_loss: 0.5296 - val_acc: 0.8880\n",
            "Epoch 15/40\n",
            "6/6 [==============================] - 3s 413ms/step - loss: 0.2721 - acc: 0.9858 - val_loss: 0.5087 - val_acc: 0.8853\n",
            "Epoch 16/40\n",
            "6/6 [==============================] - 3s 419ms/step - loss: 0.2642 - acc: 0.9830 - val_loss: 0.4874 - val_acc: 0.8928\n",
            "Epoch 17/40\n",
            "6/6 [==============================] - 3s 413ms/step - loss: 0.2545 - acc: 0.9834 - val_loss: 0.4651 - val_acc: 0.9174\n",
            "Epoch 18/40\n",
            "6/6 [==============================] - 3s 424ms/step - loss: 0.2443 - acc: 0.9865 - val_loss: 0.4588 - val_acc: 0.8992\n",
            "Epoch 19/40\n",
            "6/6 [==============================] - 4s 602ms/step - loss: 0.2369 - acc: 0.9846 - val_loss: 0.4433 - val_acc: 0.8923\n",
            "Epoch 20/40\n",
            "6/6 [==============================] - 3s 414ms/step - loss: 0.2329 - acc: 0.9822 - val_loss: 0.4297 - val_acc: 0.8939\n",
            "Epoch 21/40\n",
            "6/6 [==============================] - 3s 415ms/step - loss: 0.2235 - acc: 0.9843 - val_loss: 0.4240 - val_acc: 0.8849\n",
            "Epoch 22/40\n",
            "6/6 [==============================] - 2s 412ms/step - loss: 0.2153 - acc: 0.9868 - val_loss: 0.3991 - val_acc: 0.9183\n",
            "Epoch 23/40\n",
            "6/6 [==============================] - 3s 418ms/step - loss: 0.2105 - acc: 0.9850 - val_loss: 0.3763 - val_acc: 0.9234\n",
            "Epoch 24/40\n",
            "6/6 [==============================] - 3s 419ms/step - loss: 0.2078 - acc: 0.9823 - val_loss: 0.3503 - val_acc: 0.9604\n",
            "Epoch 25/40\n",
            "6/6 [==============================] - 3s 416ms/step - loss: 0.1985 - acc: 0.9872 - val_loss: 0.3526 - val_acc: 0.9393\n",
            "Epoch 26/40\n",
            "6/6 [==============================] - 3s 416ms/step - loss: 0.1961 - acc: 0.9843 - val_loss: 0.3423 - val_acc: 0.9388\n",
            "Epoch 27/40\n",
            "6/6 [==============================] - 3s 416ms/step - loss: 0.1921 - acc: 0.9838 - val_loss: 0.3123 - val_acc: 0.9734\n",
            "Epoch 28/40\n",
            "6/6 [==============================] - 3s 422ms/step - loss: 0.1879 - acc: 0.9849 - val_loss: 0.2845 - val_acc: 0.9810\n",
            "Epoch 29/40\n",
            "6/6 [==============================] - 3s 412ms/step - loss: 0.1843 - acc: 0.9841 - val_loss: 0.2587 - val_acc: 0.9959\n",
            "Epoch 30/40\n",
            "6/6 [==============================] - 3s 419ms/step - loss: 0.1767 - acc: 0.9883 - val_loss: 0.2691 - val_acc: 0.9869\n",
            "Epoch 31/40\n",
            "6/6 [==============================] - 3s 417ms/step - loss: 0.1704 - acc: 0.9893 - val_loss: 0.2487 - val_acc: 0.9937\n",
            "Epoch 32/40\n",
            "6/6 [==============================] - 3s 423ms/step - loss: 0.1702 - acc: 0.9858 - val_loss: 0.2411 - val_acc: 0.9959\n",
            "Epoch 33/40\n",
            "6/6 [==============================] - 3s 412ms/step - loss: 0.1669 - acc: 0.9867 - val_loss: 0.2169 - val_acc: 0.9946\n",
            "Epoch 34/40\n",
            "6/6 [==============================] - 3s 421ms/step - loss: 0.1586 - acc: 0.9902 - val_loss: 0.2123 - val_acc: 0.9958\n",
            "Epoch 35/40\n",
            "6/6 [==============================] - 2s 411ms/step - loss: 0.1545 - acc: 0.9911 - val_loss: 0.2151 - val_acc: 0.9934\n",
            "Epoch 36/40\n",
            "6/6 [==============================] - 3s 417ms/step - loss: 0.1566 - acc: 0.9878 - val_loss: 0.2323 - val_acc: 0.9843\n",
            "Epoch 37/40\n",
            "6/6 [==============================] - 3s 419ms/step - loss: 0.1494 - acc: 0.9912 - val_loss: 0.1780 - val_acc: 0.9941\n",
            "Epoch 38/40\n",
            "6/6 [==============================] - 3s 426ms/step - loss: 0.1495 - acc: 0.9886 - val_loss: 0.1709 - val_acc: 0.9965\n",
            "Epoch 39/40\n",
            "6/6 [==============================] - 3s 417ms/step - loss: 0.1471 - acc: 0.9887 - val_loss: 0.1685 - val_acc: 0.9958\n",
            "Epoch 40/40\n",
            "6/6 [==============================] - 3s 444ms/step - loss: 0.1434 - acc: 0.9903 - val_loss: 0.1617 - val_acc: 0.9961\n"
          ]
        }
      ]
    },
    {
      "cell_type": "code",
      "metadata": {
        "colab": {
          "base_uri": "https://localhost:8080/"
        },
        "id": "m5BYRdoQxk_n",
        "outputId": "b24b944e-092d-4f1a-b099-6f18fb654566"
      },
      "source": [
        "print(valid_gen.__len__())\n",
        "print(valid_steps)"
      ],
      "execution_count": 68,
      "outputs": [
        {
          "output_type": "stream",
          "name": "stdout",
          "text": [
            "10\n",
            "1\n"
          ]
        }
      ]
    },
    {
      "cell_type": "code",
      "metadata": {
        "id": "U4xfyU5GBYzZ"
      },
      "source": [
        "## Save the Weights\n",
        "# model.save_weights(\"UNetW.h5\")\n",
        "\n",
        "## Dataset for prediction\n",
        "x, y = valid_gen.__getitem__(8)\n",
        "# print(x,y)\n",
        "result = model.predict(x)\n",
        "result =result >0.4\n",
        "# result = (1-result) >0"
      ],
      "execution_count": 95,
      "outputs": []
    },
    {
      "cell_type": "code",
      "source": [],
      "metadata": {
        "id": "mZ8LLwQQklLK"
      },
      "execution_count": 135,
      "outputs": []
    },
    {
      "cell_type": "code",
      "source": [],
      "metadata": {
        "id": "ecRQR3amKwPh"
      },
      "execution_count": 137,
      "outputs": []
    },
    {
      "cell_type": "code",
      "metadata": {
        "colab": {
          "base_uri": "https://localhost:8080/",
          "height": 157
        },
        "id": "XqnV5GwpBoeU",
        "outputId": "db008a43-9ced-4e02-bf1c-fcc5fedea1ab"
      },
      "source": [
        "\n",
        "fig = plt.figure()\n",
        "fig.subplots_adjust(hspace=0.4, wspace=0.4)\n",
        "i=0\n",
        "ax = fig.add_subplot(1, 3, 1)\n",
        "ax.imshow(np.reshape(x[i], (image_size, image_size,3)), cmap=\"gray\")\n",
        "\n",
        "ax = fig.add_subplot(1, 3, 2)\n",
        "ax.imshow(np.reshape(result[i]*255, (image_size, image_size)), cmap=\"viridis\")\n",
        "\n",
        "ax = fig.add_subplot(1, 3, 3)\n",
        "ax.imshow(np.reshape((1-result[i])*255, (image_size, image_size)), cmap=\"viridis\")"
      ],
      "execution_count": 96,
      "outputs": [
        {
          "output_type": "execute_result",
          "data": {
            "text/plain": [
              "<matplotlib.image.AxesImage at 0x7fa305db1990>"
            ]
          },
          "metadata": {},
          "execution_count": 96
        },
        {
          "output_type": "display_data",
          "data": {
            "text/plain": [
              "<Figure size 432x288 with 3 Axes>"
            ],
            "image/png": "[encoded data removed]"
          },
          "metadata": {
            "needs_background": "light"
          }
        }
      ]
    },
    {
      "cell_type": "code",
      "metadata": {
        "id": "qSNj9IwYBrLv"
      },
      "source": [],
      "execution_count": null,
      "outputs": []
    }
  ]
}