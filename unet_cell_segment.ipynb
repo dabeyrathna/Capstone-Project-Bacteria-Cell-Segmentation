{
  "nbformat": 4,
  "nbformat_minor": 0,
  "metadata": {
    "colab": {
      "provenance": [],
      "include_colab_link": true
    },
    "kernelspec": {
      "name": "python3",
      "display_name": "Python 3"
    },
    "accelerator": "GPU"
  },
  "cells": [
    {
      "cell_type": "markdown",
      "metadata": {
        "id": "view-in-github",
        "colab_type": "text"
      },
      "source": [
        "<a href=\"https://colab.research.google.com/github/dabeyrathna/Capstone-Project-Bacteria-Cell-Segmentation/blob/main/unet_cell_segment.ipynb\" target=\"_parent\"><img src=\"https://colab.research.google.com/assets/colab-badge.svg\" alt=\"Open In Colab\"/></a>"
      ]
    },
    {
      "cell_type": "code",
      "metadata": {
        "colab": {
          "base_uri": "https://localhost:8080/"
        },
        "id": "l4EBq3nQ_uPY",
        "outputId": "876f084d-52d5-44c5-84a4-1de6a8b26f44"
      },
      "source": [
        "from google.colab import drive\n",
        "drive.mount('/content/gdrive')"
      ],
      "execution_count": 1,
      "outputs": [
        {
          "output_type": "stream",
          "name": "stdout",
          "text": [
            "Mounted at /content/gdrive\n"
          ]
        }
      ]
    },
    {
      "cell_type": "code",
      "metadata": {
        "id": "amEnxCRi_5OH"
      },
      "source": [
        "import os\n",
        "# root_path = 'gdrive/My Drive/bio_film'\n",
        "root_path = 'gdrive/My Drive/Capstone project DDMD/UNET/'\n",
        "os.chdir(root_path)"
      ],
      "execution_count": 2,
      "outputs": []
    },
    {
      "cell_type": "code",
      "metadata": {
        "id": "lj8mAH4SALBg"
      },
      "source": [
        "import os\n",
        "import sys\n",
        "import random\n",
        "import numpy as np\n",
        "import cv2\n",
        "import matplotlib.pyplot as plt\n",
        "import tensorflow as tf\n",
        "from tensorflow import keras\n",
        "from keras.layers import UpSampling2D, Dropout, BatchNormalization\n",
        "from keras.callbacks import EarlyStopping\n",
        "\n",
        "## Seeding \n",
        "seed = 2022\n",
        "random.seed = seed\n",
        "np.random.seed = seed\n",
        "tf.seed = seed"
      ],
      "execution_count": 3,
      "outputs": []
    },
    {
      "cell_type": "code",
      "metadata": {
        "id": "-ybo77QGAjBR"
      },
      "source": [
        "class DataGen(keras.utils.Sequence):\n",
        "    def __init__(self, ids, path, batch_size=8, image_size=128):\n",
        "        self.ids = ids\n",
        "        self.path = path\n",
        "        self.batch_size = batch_size\n",
        "        self.image_size = image_size\n",
        "        self.on_epoch_end()\n",
        "        \n",
        "    def __load__(self, id_name):\n",
        "        ## Path\n",
        "        image_path = os.path.join(self.path, id_name, \"images\", id_name) + \".png\"\n",
        "        mask_path = os.path.join(self.path, id_name, \"masks/\")\n",
        "        all_masks = os.listdir(mask_path)\n",
        "        \n",
        "        ## Reading Image\n",
        "        image = cv2.imread(image_path, 1)\n",
        "        image = cv2.resize(image, (self.image_size, self.image_size))\n",
        "        \n",
        "        mask = np.zeros((self.image_size, self.image_size, 1))\n",
        "        \n",
        "        ## Reading Masks\n",
        "        for name in all_masks:\n",
        "            _mask_path = mask_path + name\n",
        "            _mask_image = cv2.imread(_mask_path, -1)\n",
        "            _mask_image = cv2.resize(_mask_image, (self.image_size, self.image_size)) #128x128\n",
        "            _mask_image = np.expand_dims(_mask_image, axis=-1)\n",
        "            mask = np.maximum(mask, _mask_image)\n",
        "            \n",
        "        ## Normalizaing \n",
        "        image = image/255.0\n",
        "        mask = mask/255.0\n",
        "        \n",
        "        return image, mask\n",
        "    \n",
        "    def __getitem__(self, index):\n",
        "        if(index+1)*self.batch_size > len(self.ids):\n",
        "            self.batch_size = len(self.ids) - index*self.batch_size\n",
        "        \n",
        "        files_batch = self.ids[index*self.batch_size : (index+1)*self.batch_size]\n",
        "        \n",
        "        image = []\n",
        "        mask  = []\n",
        "        \n",
        "        for id_name in files_batch:\n",
        "            _img, _mask = self.__load__(id_name)\n",
        "            image.append(_img)\n",
        "            mask.append(_mask)\n",
        "            \n",
        "        image = np.array(image)\n",
        "        mask  = np.array(mask)\n",
        "        \n",
        "        return image, mask\n",
        "    \n",
        "    def on_epoch_end(self):\n",
        "        pass\n",
        "    \n",
        "    def __len__(self):\n",
        "        return int(np.ceil(len(self.ids)/float(self.batch_size)))"
      ],
      "execution_count": 50,
      "outputs": []
    },
    {
      "cell_type": "code",
      "metadata": {
        "id": "f-amp8vyA-f-"
      },
      "source": [
        "image_size = 128\n",
        "train_path = \"train\"\n",
        "val_path = \"test\"\n",
        "epochs = 10\n",
        "batch_size =8\n",
        "\n",
        "## Training Ids\n",
        "train_ids = next(os.walk(train_path))[1]\n",
        "valid_ids = next(os.walk(val_path))[1]\n",
        "\n",
        "## Validation Data Size\n",
        "val_data_size = 10\n",
        "\n",
        "valid_ids = train_ids[:val_data_size]\n",
        "train_ids = train_ids#[val_data_size:]"
      ],
      "execution_count": 51,
      "outputs": []
    },
    {
      "cell_type": "code",
      "metadata": {
        "colab": {
          "base_uri": "https://localhost:8080/"
        },
        "id": "z77JW0MOBEst",
        "outputId": "b08313de-0161-4779-84e2-cf61a626e31d"
      },
      "source": [
        "len(train_ids)\n",
        "len(valid_ids)"
      ],
      "execution_count": 52,
      "outputs": [
        {
          "output_type": "execute_result",
          "data": {
            "text/plain": [
              "10"
            ]
          },
          "metadata": {},
          "execution_count": 52
        }
      ]
    },
    {
      "cell_type": "code",
      "metadata": {
        "colab": {
          "base_uri": "https://localhost:8080/"
        },
        "id": "Ed4DKGHBBGau",
        "outputId": "8cce1139-66d4-4a34-c858-a3c3db3e0dcc"
      },
      "source": [
        "gen = DataGen(train_ids, train_path, batch_size=batch_size, image_size=image_size)\n",
        "x, y = gen.__getitem__(0)\n",
        "print(x.shape, y.shape)"
      ],
      "execution_count": 53,
      "outputs": [
        {
          "output_type": "stream",
          "name": "stdout",
          "text": [
            "(8, 128, 128, 3) (8, 128, 128, 1)\n"
          ]
        }
      ]
    },
    {
      "cell_type": "code",
      "metadata": {
        "colab": {
          "base_uri": "https://localhost:8080/",
          "height": 298
        },
        "id": "9raToETki_Zp",
        "outputId": "4d4b4dce-f3ea-4d7c-ec9b-d3e5890526c3"
      },
      "source": [
        "from re import I\n",
        "x, y = gen.__getitem__(0)\n",
        "\n",
        "fig = plt.figure()\n",
        "fig.subplots_adjust(hspace=0.4, wspace=0.4)\n",
        "\n",
        "for i in range(2): \n",
        "  ax = fig.add_subplot(1, 2, 1)\n",
        "  ax.imshow(np.reshape(x[i], (image_size, image_size,3)), cmap=\"gray\")  \n",
        "  ax = fig.add_subplot(1, 2, 2)\n",
        "  ax.imshow(np.reshape(y[i]*255, (image_size, image_size)), cmap=\"gray\")\n",
        "\n",
        "print(x.shape)"
      ],
      "execution_count": 54,
      "outputs": [
        {
          "output_type": "stream",
          "name": "stderr",
          "text": [
            "/usr/local/lib/python3.7/dist-packages/ipykernel_launcher.py:8: MatplotlibDeprecationWarning: Adding an axes using the same arguments as a previous axes currently reuses the earlier instance.  In a future version, a new instance will always be created and returned.  Meanwhile, this warning can be suppressed, and the future behavior ensured, by passing a unique label to each axes instance.\n",
            "  \n",
            "/usr/local/lib/python3.7/dist-packages/ipykernel_launcher.py:10: MatplotlibDeprecationWarning: Adding an axes using the same arguments as a previous axes currently reuses the earlier instance.  In a future version, a new instance will always be created and returned.  Meanwhile, this warning can be suppressed, and the future behavior ensured, by passing a unique label to each axes instance.\n",
            "  # Remove the CWD from sys.path while we load stuff.\n"
          ]
        },
        {
          "output_type": "stream",
          "name": "stdout",
          "text": [
            "(8, 128, 128, 3)\n"
          ]
        },
        {
          "output_type": "display_data",
          "data": {
            "text/plain": [
              "<Figure size 432x288 with 2 Axes>"
            ],
            "image/png": "[encoded data removed]"
          },
          "metadata": {
            "needs_background": "light"
          }
        }
      ]
    },
    {
      "cell_type": "code",
      "metadata": {
        "colab": {
          "base_uri": "https://localhost:8080/",
          "height": 208
        },
        "id": "1caqEz9rBJtB",
        "outputId": "97f4483c-8319-46b6-91ba-48c5fdbb7c3b"
      },
      "source": [
        "r = random.randint(0, len(x)-1)\n",
        "\n",
        "fig = plt.figure()\n",
        "fig.subplots_adjust(hspace=0.4, wspace=0.4)\n",
        "ax = fig.add_subplot(1, 2, 1)\n",
        "ax.imshow(x[r])\n",
        "ax = fig.add_subplot(1, 2, 2)\n",
        "ax.imshow(np.reshape(y[r], (image_size, image_size)), cmap=\"viridis\")"
      ],
      "execution_count": 55,
      "outputs": [
        {
          "output_type": "execute_result",
          "data": {
            "text/plain": [
              "<matplotlib.image.AxesImage at 0x7f07912d6d90>"
            ]
          },
          "metadata": {},
          "execution_count": 55
        },
        {
          "output_type": "display_data",
          "data": {
            "text/plain": [
              "<Figure size 432x288 with 2 Axes>"
            ],
            "image/png": "[encoded data removed]"
          },
          "metadata": {
            "needs_background": "light"
          }
        }
      ]
    },
    {
      "cell_type": "code",
      "metadata": {
        "id": "fXYdTk4zBPyz"
      },
      "source": [
        "def down_block(x, filters, kernel_size=(3, 3), padding=\"same\", strides=1):\n",
        "    c = keras.layers.Conv2D(filters, kernel_size, padding=padding, strides=strides, activation=\"relu\")(x)\n",
        "    c = keras.layers.Conv2D(filters, kernel_size, padding=padding, strides=strides, activation=\"relu\")(c)\n",
        "    p = keras.layers.MaxPool2D((2, 2), (2, 2))(c)\n",
        "    return c, p\n",
        "\n",
        "def up_block(x, skip, filters, kernel_size=(3, 3), padding=\"same\", strides=1):\n",
        "    us = keras.layers.UpSampling2D((2, 2))(x)\n",
        "    concat = keras.layers.Concatenate()([us, skip])\n",
        "    c = keras.layers.Conv2D(filters, kernel_size, padding=padding, strides=strides, activation=\"relu\")(concat)\n",
        "    c = BatchNormalization()(c)\n",
        "    c = keras.layers.Conv2D(filters, kernel_size, padding=padding, strides=strides, activation=\"relu\")(c)\n",
        "    return c\n",
        "\n",
        "def bottleneck(x, filters, kernel_size=(3, 3), padding=\"same\", strides=1):\n",
        "    c = keras.layers.Conv2D(filters, kernel_size, padding=padding, strides=strides, activation=\"relu\")(x)\n",
        "    c = keras.layers.Conv2D(filters, kernel_size, padding=padding, strides=strides, activation=\"relu\")(c)\n",
        "    return c"
      ],
      "execution_count": 56,
      "outputs": []
    },
    {
      "cell_type": "code",
      "metadata": {
        "id": "NwrUEnnyBSPP"
      },
      "source": [
        "def UNet():\n",
        "    f = [8,16, 32, 64,128,256]\n",
        "    inputs = keras.layers.Input((image_size, image_size, 3))\n",
        "    \n",
        "    p0 = inputs\n",
        "    \n",
        "    c1, p1 = down_block(p0, f[0]) #128 -> 64\n",
        "    c2, p2 = down_block(p1, f[1]) #64 -> 32\n",
        "    c3, p3 = down_block(p2, f[2]) #32 -> 16\n",
        "    c4, p4 = down_block(p3, f[3]) #16->8\n",
        "    \n",
        "    bn = bottleneck(p4, f[4])\n",
        "    \n",
        "    u1 = up_block(bn, c4, f[3]) #8 -> 16\n",
        "    u2 = up_block(u1, c3, f[2]) #16 -> 32\n",
        "    u3 = up_block(u2, c2, f[1]) #32 -> 64\n",
        "    u4 = up_block(u3, c1, f[0]) #64 -> 128\n",
        "    \n",
        "    outputs = keras.layers.Conv2D(1, (1, 1), padding=\"same\", activation=\"sigmoid\")(u4)\n",
        "    model = keras.models.Model(inputs, outputs)\n",
        "    return model"
      ],
      "execution_count": 57,
      "outputs": []
    },
    {
      "cell_type": "code",
      "metadata": {
        "colab": {
          "base_uri": "https://localhost:8080/"
        },
        "id": "tbrOvix_BT_7",
        "outputId": "4fd0f2c3-14a1-40ef-f2e1-a73bd4e5a0ee"
      },
      "source": [
        "model = UNet()\n",
        "opt = tf.keras.optimizers.SGD(learning_rate=0.00005)\n",
        "model.compile(optimizer=opt, loss=\"binary_crossentropy\", metrics=[\"acc\"])\n",
        "model.summary()"
      ],
      "execution_count": 58,
      "outputs": [
        {
          "output_type": "stream",
          "name": "stdout",
          "text": [
            "Model: \"model_3\"\n",
            "__________________________________________________________________________________________________\n",
            " Layer (type)                   Output Shape         Param #     Connected to                     \n",
            "==================================================================================================\n",
            " input_4 (InputLayer)           [(None, 128, 128, 3  0           []                               \n",
            "                                )]                                                                \n",
            "                                                                                                  \n",
            " conv2d_57 (Conv2D)             (None, 128, 128, 8)  224         ['input_4[0][0]']                \n",
            "                                                                                                  \n",
            " conv2d_58 (Conv2D)             (None, 128, 128, 8)  584         ['conv2d_57[0][0]']              \n",
            "                                                                                                  \n",
            " max_pooling2d_12 (MaxPooling2D  (None, 64, 64, 8)   0           ['conv2d_58[0][0]']              \n",
            " )                                                                                                \n",
            "                                                                                                  \n",
            " conv2d_59 (Conv2D)             (None, 64, 64, 16)   1168        ['max_pooling2d_12[0][0]']       \n",
            "                                                                                                  \n",
            " conv2d_60 (Conv2D)             (None, 64, 64, 16)   2320        ['conv2d_59[0][0]']              \n",
            "                                                                                                  \n",
            " max_pooling2d_13 (MaxPooling2D  (None, 32, 32, 16)  0           ['conv2d_60[0][0]']              \n",
            " )                                                                                                \n",
            "                                                                                                  \n",
            " conv2d_61 (Conv2D)             (None, 32, 32, 32)   4640        ['max_pooling2d_13[0][0]']       \n",
            "                                                                                                  \n",
            " conv2d_62 (Conv2D)             (None, 32, 32, 32)   9248        ['conv2d_61[0][0]']              \n",
            "                                                                                                  \n",
            " max_pooling2d_14 (MaxPooling2D  (None, 16, 16, 32)  0           ['conv2d_62[0][0]']              \n",
            " )                                                                                                \n",
            "                                                                                                  \n",
            " conv2d_63 (Conv2D)             (None, 16, 16, 64)   18496       ['max_pooling2d_14[0][0]']       \n",
            "                                                                                                  \n",
            " conv2d_64 (Conv2D)             (None, 16, 16, 64)   36928       ['conv2d_63[0][0]']              \n",
            "                                                                                                  \n",
            " max_pooling2d_15 (MaxPooling2D  (None, 8, 8, 64)    0           ['conv2d_64[0][0]']              \n",
            " )                                                                                                \n",
            "                                                                                                  \n",
            " conv2d_65 (Conv2D)             (None, 8, 8, 128)    73856       ['max_pooling2d_15[0][0]']       \n",
            "                                                                                                  \n",
            " conv2d_66 (Conv2D)             (None, 8, 8, 128)    147584      ['conv2d_65[0][0]']              \n",
            "                                                                                                  \n",
            " up_sampling2d_12 (UpSampling2D  (None, 16, 16, 128)  0          ['conv2d_66[0][0]']              \n",
            " )                                                                                                \n",
            "                                                                                                  \n",
            " concatenate_12 (Concatenate)   (None, 16, 16, 192)  0           ['up_sampling2d_12[0][0]',       \n",
            "                                                                  'conv2d_64[0][0]']              \n",
            "                                                                                                  \n",
            " conv2d_67 (Conv2D)             (None, 16, 16, 64)   110656      ['concatenate_12[0][0]']         \n",
            "                                                                                                  \n",
            " batch_normalization_12 (BatchN  (None, 16, 16, 64)  256         ['conv2d_67[0][0]']              \n",
            " ormalization)                                                                                    \n",
            "                                                                                                  \n",
            " conv2d_68 (Conv2D)             (None, 16, 16, 64)   36928       ['batch_normalization_12[0][0]'] \n",
            "                                                                                                  \n",
            " up_sampling2d_13 (UpSampling2D  (None, 32, 32, 64)  0           ['conv2d_68[0][0]']              \n",
            " )                                                                                                \n",
            "                                                                                                  \n",
            " concatenate_13 (Concatenate)   (None, 32, 32, 96)   0           ['up_sampling2d_13[0][0]',       \n",
            "                                                                  'conv2d_62[0][0]']              \n",
            "                                                                                                  \n",
            " conv2d_69 (Conv2D)             (None, 32, 32, 32)   27680       ['concatenate_13[0][0]']         \n",
            "                                                                                                  \n",
            " batch_normalization_13 (BatchN  (None, 32, 32, 32)  128         ['conv2d_69[0][0]']              \n",
            " ormalization)                                                                                    \n",
            "                                                                                                  \n",
            " conv2d_70 (Conv2D)             (None, 32, 32, 32)   9248        ['batch_normalization_13[0][0]'] \n",
            "                                                                                                  \n",
            " up_sampling2d_14 (UpSampling2D  (None, 64, 64, 32)  0           ['conv2d_70[0][0]']              \n",
            " )                                                                                                \n",
            "                                                                                                  \n",
            " concatenate_14 (Concatenate)   (None, 64, 64, 48)   0           ['up_sampling2d_14[0][0]',       \n",
            "                                                                  'conv2d_60[0][0]']              \n",
            "                                                                                                  \n",
            " conv2d_71 (Conv2D)             (None, 64, 64, 16)   6928        ['concatenate_14[0][0]']         \n",
            "                                                                                                  \n",
            " batch_normalization_14 (BatchN  (None, 64, 64, 16)  64          ['conv2d_71[0][0]']              \n",
            " ormalization)                                                                                    \n",
            "                                                                                                  \n",
            " conv2d_72 (Conv2D)             (None, 64, 64, 16)   2320        ['batch_normalization_14[0][0]'] \n",
            "                                                                                                  \n",
            " up_sampling2d_15 (UpSampling2D  (None, 128, 128, 16  0          ['conv2d_72[0][0]']              \n",
            " )                              )                                                                 \n",
            "                                                                                                  \n",
            " concatenate_15 (Concatenate)   (None, 128, 128, 24  0           ['up_sampling2d_15[0][0]',       \n",
            "                                )                                 'conv2d_58[0][0]']              \n",
            "                                                                                                  \n",
            " conv2d_73 (Conv2D)             (None, 128, 128, 8)  1736        ['concatenate_15[0][0]']         \n",
            "                                                                                                  \n",
            " batch_normalization_15 (BatchN  (None, 128, 128, 8)  32         ['conv2d_73[0][0]']              \n",
            " ormalization)                                                                                    \n",
            "                                                                                                  \n",
            " conv2d_74 (Conv2D)             (None, 128, 128, 8)  584         ['batch_normalization_15[0][0]'] \n",
            "                                                                                                  \n",
            " conv2d_75 (Conv2D)             (None, 128, 128, 1)  9           ['conv2d_74[0][0]']              \n",
            "                                                                                                  \n",
            "==================================================================================================\n",
            "Total params: 491,617\n",
            "Trainable params: 491,377\n",
            "Non-trainable params: 240\n",
            "__________________________________________________________________________________________________\n"
          ]
        }
      ]
    },
    {
      "cell_type": "code",
      "metadata": {
        "colab": {
          "base_uri": "https://localhost:8080/"
        },
        "id": "LzfkjtoNBVe6",
        "outputId": "12997bf2-524d-49ad-9152-bf83caeb00b6"
      },
      "source": [
        "train_gen = DataGen(train_ids, train_path, image_size=image_size, batch_size=batch_size)\n",
        "valid_gen = DataGen(valid_ids, train_path, image_size=image_size, batch_size=batch_size)\n",
        "\n",
        "train_steps = len(train_ids)//batch_size\n",
        "valid_steps = len(valid_ids)//batch_size\n",
        "print(train_steps)\n",
        "\n",
        "early_stopping_callback = EarlyStopping(monitor='loss', patience=3)\n",
        "\n",
        "model.fit_generator(train_gen, validation_data=valid_gen, steps_per_epoch=train_steps, validation_steps=valid_steps,epochs=40, callbacks=[early_stopping_callback])"
      ],
      "execution_count": 59,
      "outputs": [
        {
          "output_type": "stream",
          "name": "stdout",
          "text": [
            "7\n",
            "Epoch 1/40\n"
          ]
        },
        {
          "output_type": "stream",
          "name": "stderr",
          "text": [
            "/usr/local/lib/python3.7/dist-packages/ipykernel_launcher.py:10: UserWarning: `Model.fit_generator` is deprecated and will be removed in a future version. Please use `Model.fit`, which supports generators.\n",
            "  # Remove the CWD from sys.path while we load stuff.\n"
          ]
        },
        {
          "output_type": "stream",
          "name": "stdout",
          "text": [
            "7/7 [==============================] - 2s 158ms/step - loss: 0.5619 - acc: 0.7136 - val_loss: 0.6894 - val_acc: 0.7815\n",
            "Epoch 2/40\n",
            "7/7 [==============================] - 0s 32ms/step - loss: 0.5561 - acc: 0.7202 - val_loss: 0.6910 - val_acc: 0.5310\n",
            "Epoch 3/40\n",
            "7/7 [==============================] - 0s 34ms/step - loss: 0.5626 - acc: 0.7141 - val_loss: 0.6914 - val_acc: 0.4073\n",
            "Epoch 4/40\n",
            "7/7 [==============================] - 0s 36ms/step - loss: 0.5583 - acc: 0.7144 - val_loss: 0.6915 - val_acc: 0.3559\n",
            "Epoch 5/40\n",
            "7/7 [==============================] - 0s 33ms/step - loss: 0.5529 - acc: 0.7245 - val_loss: 0.6908 - val_acc: 0.3480\n",
            "Epoch 6/40\n",
            "7/7 [==============================] - 0s 35ms/step - loss: 0.5438 - acc: 0.7313 - val_loss: 0.6896 - val_acc: 0.3495\n",
            "Epoch 7/40\n",
            "7/7 [==============================] - 0s 35ms/step - loss: 0.5515 - acc: 0.7243 - val_loss: 0.6886 - val_acc: 0.3552\n",
            "Epoch 8/40\n",
            "7/7 [==============================] - 0s 35ms/step - loss: 0.5513 - acc: 0.7240 - val_loss: 0.6877 - val_acc: 0.3616\n",
            "Epoch 9/40\n",
            "7/7 [==============================] - 0s 35ms/step - loss: 0.5431 - acc: 0.7341 - val_loss: 0.6869 - val_acc: 0.3670\n",
            "Epoch 10/40\n",
            "7/7 [==============================] - 0s 35ms/step - loss: 0.5406 - acc: 0.7355 - val_loss: 0.6863 - val_acc: 0.3709\n",
            "Epoch 11/40\n",
            "7/7 [==============================] - 0s 37ms/step - loss: 0.5446 - acc: 0.7338 - val_loss: 0.6858 - val_acc: 0.3741\n",
            "Epoch 12/40\n",
            "7/7 [==============================] - 0s 35ms/step - loss: 0.5410 - acc: 0.7345 - val_loss: 0.6853 - val_acc: 0.3745\n",
            "Epoch 13/40\n",
            "7/7 [==============================] - 0s 40ms/step - loss: 0.5352 - acc: 0.7416 - val_loss: 0.6849 - val_acc: 0.3756\n",
            "Epoch 14/40\n",
            "7/7 [==============================] - 0s 36ms/step - loss: 0.5377 - acc: 0.7404 - val_loss: 0.6846 - val_acc: 0.3746\n",
            "Epoch 15/40\n",
            "7/7 [==============================] - 0s 34ms/step - loss: 0.5351 - acc: 0.7423 - val_loss: 0.6844 - val_acc: 0.3670\n",
            "Epoch 16/40\n",
            "7/7 [==============================] - 0s 38ms/step - loss: 0.5339 - acc: 0.7433 - val_loss: 0.6842 - val_acc: 0.3625\n",
            "Epoch 17/40\n",
            "7/7 [==============================] - 0s 36ms/step - loss: 0.5341 - acc: 0.7422 - val_loss: 0.6841 - val_acc: 0.3590\n",
            "Epoch 18/40\n",
            "7/7 [==============================] - 0s 30ms/step - loss: 0.5289 - acc: 0.7485 - val_loss: 0.6841 - val_acc: 0.3539\n",
            "Epoch 19/40\n",
            "7/7 [==============================] - 0s 33ms/step - loss: 0.5257 - acc: 0.7525 - val_loss: 0.6840 - val_acc: 0.3492\n",
            "Epoch 20/40\n",
            "7/7 [==============================] - 0s 35ms/step - loss: 0.5298 - acc: 0.7482 - val_loss: 0.6839 - val_acc: 0.3414\n",
            "Epoch 21/40\n",
            "7/7 [==============================] - 0s 35ms/step - loss: 0.5265 - acc: 0.7531 - val_loss: 0.6838 - val_acc: 0.3392\n",
            "Epoch 22/40\n",
            "7/7 [==============================] - 0s 33ms/step - loss: 0.5242 - acc: 0.7551 - val_loss: 0.6837 - val_acc: 0.3379\n",
            "Epoch 23/40\n",
            "7/7 [==============================] - 0s 39ms/step - loss: 0.5366 - acc: 0.7405 - val_loss: 0.6837 - val_acc: 0.3373\n",
            "Epoch 24/40\n",
            "7/7 [==============================] - 0s 36ms/step - loss: 0.5202 - acc: 0.7602 - val_loss: 0.6835 - val_acc: 0.3386\n",
            "Epoch 25/40\n",
            "7/7 [==============================] - 0s 35ms/step - loss: 0.5193 - acc: 0.7616 - val_loss: 0.6833 - val_acc: 0.3404\n",
            "Epoch 26/40\n",
            "7/7 [==============================] - 0s 33ms/step - loss: 0.5202 - acc: 0.7588 - val_loss: 0.6832 - val_acc: 0.3434\n",
            "Epoch 27/40\n",
            "7/7 [==============================] - 0s 32ms/step - loss: 0.5146 - acc: 0.7629 - val_loss: 0.6831 - val_acc: 0.3464\n",
            "Epoch 28/40\n",
            "7/7 [==============================] - 0s 33ms/step - loss: 0.5178 - acc: 0.7655 - val_loss: 0.6829 - val_acc: 0.3488\n",
            "Epoch 29/40\n",
            "7/7 [==============================] - 0s 31ms/step - loss: 0.5166 - acc: 0.7682 - val_loss: 0.6827 - val_acc: 0.3508\n",
            "Epoch 30/40\n",
            "7/7 [==============================] - 0s 35ms/step - loss: 0.5217 - acc: 0.7626 - val_loss: 0.6824 - val_acc: 0.3532\n"
          ]
        },
        {
          "output_type": "execute_result",
          "data": {
            "text/plain": [
              "<keras.callbacks.History at 0x7f079013f1d0>"
            ]
          },
          "metadata": {},
          "execution_count": 59
        }
      ]
    },
    {
      "cell_type": "code",
      "metadata": {
        "colab": {
          "base_uri": "https://localhost:8080/"
        },
        "id": "m5BYRdoQxk_n",
        "outputId": "5d47555b-bc3b-4dab-a485-879a1a1f394c"
      },
      "source": [
        "print(valid_gen.__len__())\n",
        "print(valid_steps)"
      ],
      "execution_count": 60,
      "outputs": [
        {
          "output_type": "stream",
          "name": "stdout",
          "text": [
            "5\n",
            "1\n"
          ]
        }
      ]
    },
    {
      "cell_type": "code",
      "metadata": {
        "id": "U4xfyU5GBYzZ"
      },
      "source": [
        "## Save the Weights\n",
        "model.save(\"UNetW.h5\")\n",
        "\n",
        "## Dataset for prediction\n",
        "x, y = valid_gen.__getitem__(2)\n",
        "# print(x,y)\n",
        "result = model.predict(x)\n",
        "\n",
        "result = result > 0.5"
      ],
      "execution_count": 61,
      "outputs": []
    },
    {
      "cell_type": "code",
      "source": [
        "x.shape"
      ],
      "metadata": {
        "id": "mZ8LLwQQklLK",
        "outputId": "f8d37271-fe89-4cfc-a500-05000a030330",
        "colab": {
          "base_uri": "https://localhost:8080/"
        }
      },
      "execution_count": 62,
      "outputs": [
        {
          "output_type": "execute_result",
          "data": {
            "text/plain": [
              "(2, 128, 128, 3)"
            ]
          },
          "metadata": {},
          "execution_count": 62
        }
      ]
    },
    {
      "cell_type": "code",
      "metadata": {
        "id": "XqnV5GwpBoeU"
      },
      "source": [
        "\n",
        "fig = plt.figure()\n",
        "fig.subplots_adjust(hspace=0.4, wspace=0.4)\n",
        "i=0\n",
        "ax = fig.add_subplot(1, 2, 1)\n",
        "ax.imshow(np.reshape(x[i], (image_size, image_size,3)), cmap=\"gray\")\n",
        "\n",
        "ax = fig.add_subplot(1, 2, 2)\n",
        "ax.imshow(np.reshape(result[i]*255, (image_size, image_size)), cmap=\"viridis\")"
      ],
      "execution_count": null,
      "outputs": []
    },
    {
      "cell_type": "code",
      "source": [],
      "metadata": {
        "id": "B5uMnB323aa4"
      },
      "execution_count": null,
      "outputs": []
    }
  ]
}